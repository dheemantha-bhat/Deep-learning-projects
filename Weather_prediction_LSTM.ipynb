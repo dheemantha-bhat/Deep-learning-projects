{
 "cells": [
  {
   "cell_type": "code",
   "execution_count": null,
   "id": "ff683447",
   "metadata": {
    "id": "ff683447"
   },
   "outputs": [],
   "source": [
    "import numpy as np\n",
    "import pandas as pd\n",
    "import matplotlib.pyplot as plt\n",
    "plt.style.use('fivethirtyeight')\n",
    "from matplotlib.pyplot import figure\n",
    "import scipy.io\n",
    "from sklearn.preprocessing import LabelEncoder\n",
    "from sklearn.preprocessing import MinMaxScaler\n",
    "from google.colab import files\n",
    "from keras.models import Sequential\n",
    "from keras.layers import LSTM\n",
    "from keras.layers import Dense\n",
    "from sklearn.metrics import mean_absolute_error\n",
    "import tensorflow as tf\n",
    "import seaborn as sns"
   ]
  },
  {
   "cell_type": "code",
   "execution_count": null,
   "id": "6b5406aa",
   "metadata": {
    "id": "6b5406aa"
   },
   "outputs": [],
   "source": [
    "files.upload()\n",
    "mat = scipy.io.loadmat('data.mat')"
   ]
  },
  {
   "cell_type": "markdown",
   "id": "00f74a6f",
   "metadata": {
    "id": "00f74a6f"
   },
   "source": [
    "mat"
   ]
  },
  {
   "cell_type": "code",
   "execution_count": null,
   "id": "f155bd12",
   "metadata": {
    "id": "f155bd12"
   },
   "outputs": [],
   "source": [
    "array = mat['X']"
   ]
  },
  {
   "cell_type": "code",
   "execution_count": null,
   "id": "b5ca5f41",
   "metadata": {
    "colab": {
     "base_uri": "https://localhost:8080/"
    },
    "id": "b5ca5f41",
    "outputId": "b8a0400e-1e86-4d9c-d008-21e638f2fc26"
   },
   "outputs": [
    {
     "data": {
      "text/plain": [
       "(70128, 4, 5)"
      ]
     },
     "execution_count": 5,
     "metadata": {},
     "output_type": "execute_result"
    }
   ],
   "source": [
    "array.shape"
   ]
  },
  {
   "cell_type": "code",
   "execution_count": null,
   "id": "2ce6a8c6",
   "metadata": {
    "id": "2ce6a8c6"
   },
   "outputs": [],
   "source": [
    "# creating a DataFrame from the given dataset\n",
    "city={0: [], 1: [], 2: [],3:[]}\n",
    "for i in range(4):\n",
    "    for j in range(array.shape[0]):\n",
    "        city[i].append(array[j][:][i])       "
   ]
  },
  {
   "cell_type": "code",
   "execution_count": null,
   "id": "a814aba7",
   "metadata": {
    "id": "a814aba7"
   },
   "outputs": [],
   "source": [
    "df = pd.concat([pd.DataFrame(city[0]), pd.DataFrame(city[1]),pd.DataFrame(city[2]),pd.DataFrame(city[3])], axis=1)"
   ]
  },
  {
   "cell_type": "code",
   "execution_count": null,
   "id": "d9bd0b8c",
   "metadata": {
    "id": "d9bd0b8c"
   },
   "outputs": [],
   "source": [
    "df.columns = [\"ws1\",\"wd1\",\"t1\",\"d1\",\"a1\",\"ws2\",\"wd2\",\"t2\",\"d2\",\"a2\",\"ws3\",\"wd3\",\"t3\",\"d3\",\"a3\",\"ws4\",\"wd4\",\"t4\",\"d4\",\"a4\"]"
   ]
  },
  {
   "cell_type": "code",
   "execution_count": null,
   "id": "5647f5f3",
   "metadata": {
    "id": "5647f5f3"
   },
   "outputs": [],
   "source": [
    "df = df[[\"ws1\",\"wd1\",\"t1\",\"d1\",\"a1\",\"ws2\",\"wd2\",\"t2\",\"d2\",\"a2\",\"ws3\",\"wd3\",\"t3\",\"d3\",\"a3\",\"ws4\",\"wd4\",\"d4\",\"a4\",\"t4\"]]"
   ]
  },
  {
   "cell_type": "code",
   "execution_count": null,
   "id": "4bd83e94",
   "metadata": {
    "colab": {
     "base_uri": "https://localhost:8080/",
     "height": 419
    },
    "id": "4bd83e94",
    "outputId": "54d3c1b1-ed6c-4bd4-e21f-8d3e8064fea5"
   },
   "outputs": [
    {
     "data": {
      "text/html": [
       "\n",
       "  <div id=\"df-e5a93422-570d-433a-916b-273dad089c8a\">\n",
       "    <div class=\"colab-df-container\">\n",
       "      <div>\n",
       "<style scoped>\n",
       "    .dataframe tbody tr th:only-of-type {\n",
       "        vertical-align: middle;\n",
       "    }\n",
       "\n",
       "    .dataframe tbody tr th {\n",
       "        vertical-align: top;\n",
       "    }\n",
       "\n",
       "    .dataframe thead th {\n",
       "        text-align: right;\n",
       "    }\n",
       "</style>\n",
       "<table border=\"1\" class=\"dataframe\">\n",
       "  <thead>\n",
       "    <tr style=\"text-align: right;\">\n",
       "      <th></th>\n",
       "      <th>ws1</th>\n",
       "      <th>wd1</th>\n",
       "      <th>t1</th>\n",
       "      <th>d1</th>\n",
       "      <th>a1</th>\n",
       "      <th>ws2</th>\n",
       "      <th>wd2</th>\n",
       "      <th>t2</th>\n",
       "      <th>d2</th>\n",
       "      <th>a2</th>\n",
       "      <th>ws3</th>\n",
       "      <th>wd3</th>\n",
       "      <th>t3</th>\n",
       "      <th>d3</th>\n",
       "      <th>a3</th>\n",
       "      <th>ws4</th>\n",
       "      <th>wd4</th>\n",
       "      <th>d4</th>\n",
       "      <th>a4</th>\n",
       "      <th>t4</th>\n",
       "    </tr>\n",
       "  </thead>\n",
       "  <tbody>\n",
       "    <tr>\n",
       "      <th>0</th>\n",
       "      <td>60</td>\n",
       "      <td>260</td>\n",
       "      <td>35</td>\n",
       "      <td>32</td>\n",
       "      <td>10185</td>\n",
       "      <td>40</td>\n",
       "      <td>240</td>\n",
       "      <td>52</td>\n",
       "      <td>48</td>\n",
       "      <td>10223</td>\n",
       "      <td>30</td>\n",
       "      <td>230</td>\n",
       "      <td>13</td>\n",
       "      <td>11</td>\n",
       "      <td>10229</td>\n",
       "      <td>30</td>\n",
       "      <td>220</td>\n",
       "      <td>8</td>\n",
       "      <td>10237</td>\n",
       "      <td>9</td>\n",
       "    </tr>\n",
       "    <tr>\n",
       "      <th>1</th>\n",
       "      <td>60</td>\n",
       "      <td>260</td>\n",
       "      <td>36</td>\n",
       "      <td>33</td>\n",
       "      <td>10183</td>\n",
       "      <td>40</td>\n",
       "      <td>280</td>\n",
       "      <td>50</td>\n",
       "      <td>44</td>\n",
       "      <td>10220</td>\n",
       "      <td>30</td>\n",
       "      <td>230</td>\n",
       "      <td>15</td>\n",
       "      <td>14</td>\n",
       "      <td>10226</td>\n",
       "      <td>30</td>\n",
       "      <td>220</td>\n",
       "      <td>7</td>\n",
       "      <td>10235</td>\n",
       "      <td>8</td>\n",
       "    </tr>\n",
       "    <tr>\n",
       "      <th>2</th>\n",
       "      <td>60</td>\n",
       "      <td>260</td>\n",
       "      <td>37</td>\n",
       "      <td>34</td>\n",
       "      <td>10181</td>\n",
       "      <td>30</td>\n",
       "      <td>270</td>\n",
       "      <td>49</td>\n",
       "      <td>41</td>\n",
       "      <td>10217</td>\n",
       "      <td>40</td>\n",
       "      <td>240</td>\n",
       "      <td>15</td>\n",
       "      <td>13</td>\n",
       "      <td>10223</td>\n",
       "      <td>30</td>\n",
       "      <td>220</td>\n",
       "      <td>8</td>\n",
       "      <td>10232</td>\n",
       "      <td>8</td>\n",
       "    </tr>\n",
       "    <tr>\n",
       "      <th>3</th>\n",
       "      <td>50</td>\n",
       "      <td>260</td>\n",
       "      <td>38</td>\n",
       "      <td>35</td>\n",
       "      <td>10174</td>\n",
       "      <td>40</td>\n",
       "      <td>280</td>\n",
       "      <td>50</td>\n",
       "      <td>38</td>\n",
       "      <td>10213</td>\n",
       "      <td>30</td>\n",
       "      <td>240</td>\n",
       "      <td>16</td>\n",
       "      <td>14</td>\n",
       "      <td>10218</td>\n",
       "      <td>30</td>\n",
       "      <td>230</td>\n",
       "      <td>10</td>\n",
       "      <td>10226</td>\n",
       "      <td>10</td>\n",
       "    </tr>\n",
       "    <tr>\n",
       "      <th>4</th>\n",
       "      <td>50</td>\n",
       "      <td>260</td>\n",
       "      <td>39</td>\n",
       "      <td>36</td>\n",
       "      <td>10169</td>\n",
       "      <td>40</td>\n",
       "      <td>280</td>\n",
       "      <td>51</td>\n",
       "      <td>38</td>\n",
       "      <td>10211</td>\n",
       "      <td>30</td>\n",
       "      <td>230</td>\n",
       "      <td>14</td>\n",
       "      <td>13</td>\n",
       "      <td>10216</td>\n",
       "      <td>30</td>\n",
       "      <td>230</td>\n",
       "      <td>12</td>\n",
       "      <td>10224</td>\n",
       "      <td>12</td>\n",
       "    </tr>\n",
       "    <tr>\n",
       "      <th>...</th>\n",
       "      <td>...</td>\n",
       "      <td>...</td>\n",
       "      <td>...</td>\n",
       "      <td>...</td>\n",
       "      <td>...</td>\n",
       "      <td>...</td>\n",
       "      <td>...</td>\n",
       "      <td>...</td>\n",
       "      <td>...</td>\n",
       "      <td>...</td>\n",
       "      <td>...</td>\n",
       "      <td>...</td>\n",
       "      <td>...</td>\n",
       "      <td>...</td>\n",
       "      <td>...</td>\n",
       "      <td>...</td>\n",
       "      <td>...</td>\n",
       "      <td>...</td>\n",
       "      <td>...</td>\n",
       "      <td>...</td>\n",
       "    </tr>\n",
       "    <tr>\n",
       "      <th>70123</th>\n",
       "      <td>60</td>\n",
       "      <td>250</td>\n",
       "      <td>86</td>\n",
       "      <td>63</td>\n",
       "      <td>10301</td>\n",
       "      <td>40</td>\n",
       "      <td>240</td>\n",
       "      <td>82</td>\n",
       "      <td>69</td>\n",
       "      <td>10332</td>\n",
       "      <td>30</td>\n",
       "      <td>250</td>\n",
       "      <td>85</td>\n",
       "      <td>74</td>\n",
       "      <td>10338</td>\n",
       "      <td>30</td>\n",
       "      <td>210</td>\n",
       "      <td>73</td>\n",
       "      <td>10342</td>\n",
       "      <td>77</td>\n",
       "    </tr>\n",
       "    <tr>\n",
       "      <th>70124</th>\n",
       "      <td>50</td>\n",
       "      <td>250</td>\n",
       "      <td>82</td>\n",
       "      <td>65</td>\n",
       "      <td>10299</td>\n",
       "      <td>40</td>\n",
       "      <td>240</td>\n",
       "      <td>79</td>\n",
       "      <td>71</td>\n",
       "      <td>10328</td>\n",
       "      <td>40</td>\n",
       "      <td>260</td>\n",
       "      <td>82</td>\n",
       "      <td>66</td>\n",
       "      <td>10336</td>\n",
       "      <td>30</td>\n",
       "      <td>250</td>\n",
       "      <td>73</td>\n",
       "      <td>10338</td>\n",
       "      <td>80</td>\n",
       "    </tr>\n",
       "    <tr>\n",
       "      <th>70125</th>\n",
       "      <td>60</td>\n",
       "      <td>240</td>\n",
       "      <td>82</td>\n",
       "      <td>63</td>\n",
       "      <td>10291</td>\n",
       "      <td>40</td>\n",
       "      <td>240</td>\n",
       "      <td>82</td>\n",
       "      <td>69</td>\n",
       "      <td>10325</td>\n",
       "      <td>40</td>\n",
       "      <td>250</td>\n",
       "      <td>76</td>\n",
       "      <td>68</td>\n",
       "      <td>10332</td>\n",
       "      <td>30</td>\n",
       "      <td>240</td>\n",
       "      <td>71</td>\n",
       "      <td>10335</td>\n",
       "      <td>78</td>\n",
       "    </tr>\n",
       "    <tr>\n",
       "      <th>70126</th>\n",
       "      <td>60</td>\n",
       "      <td>250</td>\n",
       "      <td>81</td>\n",
       "      <td>61</td>\n",
       "      <td>10286</td>\n",
       "      <td>50</td>\n",
       "      <td>260</td>\n",
       "      <td>87</td>\n",
       "      <td>55</td>\n",
       "      <td>10321</td>\n",
       "      <td>40</td>\n",
       "      <td>260</td>\n",
       "      <td>76</td>\n",
       "      <td>67</td>\n",
       "      <td>10333</td>\n",
       "      <td>30</td>\n",
       "      <td>260</td>\n",
       "      <td>65</td>\n",
       "      <td>10334</td>\n",
       "      <td>78</td>\n",
       "    </tr>\n",
       "    <tr>\n",
       "      <th>70127</th>\n",
       "      <td>70</td>\n",
       "      <td>250</td>\n",
       "      <td>83</td>\n",
       "      <td>52</td>\n",
       "      <td>10278</td>\n",
       "      <td>40</td>\n",
       "      <td>260</td>\n",
       "      <td>86</td>\n",
       "      <td>57</td>\n",
       "      <td>10318</td>\n",
       "      <td>40</td>\n",
       "      <td>230</td>\n",
       "      <td>73</td>\n",
       "      <td>69</td>\n",
       "      <td>10325</td>\n",
       "      <td>30</td>\n",
       "      <td>250</td>\n",
       "      <td>62</td>\n",
       "      <td>10332</td>\n",
       "      <td>77</td>\n",
       "    </tr>\n",
       "  </tbody>\n",
       "</table>\n",
       "<p>70128 rows × 20 columns</p>\n",
       "</div>\n",
       "      <button class=\"colab-df-convert\" onclick=\"convertToInteractive('df-e5a93422-570d-433a-916b-273dad089c8a')\"\n",
       "              title=\"Convert this dataframe to an interactive table.\"\n",
       "              style=\"display:none;\">\n",
       "        \n",
       "  <svg xmlns=\"http://www.w3.org/2000/svg\" height=\"24px\"viewBox=\"0 0 24 24\"\n",
       "       width=\"24px\">\n",
       "    <path d=\"M0 0h24v24H0V0z\" fill=\"none\"/>\n",
       "    <path d=\"M18.56 5.44l.94 2.06.94-2.06 2.06-.94-2.06-.94-.94-2.06-.94 2.06-2.06.94zm-11 1L8.5 8.5l.94-2.06 2.06-.94-2.06-.94L8.5 2.5l-.94 2.06-2.06.94zm10 10l.94 2.06.94-2.06 2.06-.94-2.06-.94-.94-2.06-.94 2.06-2.06.94z\"/><path d=\"M17.41 7.96l-1.37-1.37c-.4-.4-.92-.59-1.43-.59-.52 0-1.04.2-1.43.59L10.3 9.45l-7.72 7.72c-.78.78-.78 2.05 0 2.83L4 21.41c.39.39.9.59 1.41.59.51 0 1.02-.2 1.41-.59l7.78-7.78 2.81-2.81c.8-.78.8-2.07 0-2.86zM5.41 20L4 18.59l7.72-7.72 1.47 1.35L5.41 20z\"/>\n",
       "  </svg>\n",
       "      </button>\n",
       "      \n",
       "  <style>\n",
       "    .colab-df-container {\n",
       "      display:flex;\n",
       "      flex-wrap:wrap;\n",
       "      gap: 12px;\n",
       "    }\n",
       "\n",
       "    .colab-df-convert {\n",
       "      background-color: #E8F0FE;\n",
       "      border: none;\n",
       "      border-radius: 50%;\n",
       "      cursor: pointer;\n",
       "      display: none;\n",
       "      fill: #1967D2;\n",
       "      height: 32px;\n",
       "      padding: 0 0 0 0;\n",
       "      width: 32px;\n",
       "    }\n",
       "\n",
       "    .colab-df-convert:hover {\n",
       "      background-color: #E2EBFA;\n",
       "      box-shadow: 0px 1px 2px rgba(60, 64, 67, 0.3), 0px 1px 3px 1px rgba(60, 64, 67, 0.15);\n",
       "      fill: #174EA6;\n",
       "    }\n",
       "\n",
       "    [theme=dark] .colab-df-convert {\n",
       "      background-color: #3B4455;\n",
       "      fill: #D2E3FC;\n",
       "    }\n",
       "\n",
       "    [theme=dark] .colab-df-convert:hover {\n",
       "      background-color: #434B5C;\n",
       "      box-shadow: 0px 1px 3px 1px rgba(0, 0, 0, 0.15);\n",
       "      filter: drop-shadow(0px 1px 2px rgba(0, 0, 0, 0.3));\n",
       "      fill: #FFFFFF;\n",
       "    }\n",
       "  </style>\n",
       "\n",
       "      <script>\n",
       "        const buttonEl =\n",
       "          document.querySelector('#df-e5a93422-570d-433a-916b-273dad089c8a button.colab-df-convert');\n",
       "        buttonEl.style.display =\n",
       "          google.colab.kernel.accessAllowed ? 'block' : 'none';\n",
       "\n",
       "        async function convertToInteractive(key) {\n",
       "          const element = document.querySelector('#df-e5a93422-570d-433a-916b-273dad089c8a');\n",
       "          const dataTable =\n",
       "            await google.colab.kernel.invokeFunction('convertToInteractive',\n",
       "                                                     [key], {});\n",
       "          if (!dataTable) return;\n",
       "\n",
       "          const docLinkHtml = 'Like what you see? Visit the ' +\n",
       "            '<a target=\"_blank\" href=https://colab.research.google.com/notebooks/data_table.ipynb>data table notebook</a>'\n",
       "            + ' to learn more about interactive tables.';\n",
       "          element.innerHTML = '';\n",
       "          dataTable['output_type'] = 'display_data';\n",
       "          await google.colab.output.renderOutput(dataTable, element);\n",
       "          const docLink = document.createElement('div');\n",
       "          docLink.innerHTML = docLinkHtml;\n",
       "          element.appendChild(docLink);\n",
       "        }\n",
       "      </script>\n",
       "    </div>\n",
       "  </div>\n",
       "  "
      ],
      "text/plain": [
       "       ws1  wd1  t1  d1     a1  ws2  wd2  t2  d2     a2  ws3  wd3  t3  d3  \\\n",
       "0       60  260  35  32  10185   40  240  52  48  10223   30  230  13  11   \n",
       "1       60  260  36  33  10183   40  280  50  44  10220   30  230  15  14   \n",
       "2       60  260  37  34  10181   30  270  49  41  10217   40  240  15  13   \n",
       "3       50  260  38  35  10174   40  280  50  38  10213   30  240  16  14   \n",
       "4       50  260  39  36  10169   40  280  51  38  10211   30  230  14  13   \n",
       "...    ...  ...  ..  ..    ...  ...  ...  ..  ..    ...  ...  ...  ..  ..   \n",
       "70123   60  250  86  63  10301   40  240  82  69  10332   30  250  85  74   \n",
       "70124   50  250  82  65  10299   40  240  79  71  10328   40  260  82  66   \n",
       "70125   60  240  82  63  10291   40  240  82  69  10325   40  250  76  68   \n",
       "70126   60  250  81  61  10286   50  260  87  55  10321   40  260  76  67   \n",
       "70127   70  250  83  52  10278   40  260  86  57  10318   40  230  73  69   \n",
       "\n",
       "          a3  ws4  wd4  d4     a4  t4  \n",
       "0      10229   30  220   8  10237   9  \n",
       "1      10226   30  220   7  10235   8  \n",
       "2      10223   30  220   8  10232   8  \n",
       "3      10218   30  230  10  10226  10  \n",
       "4      10216   30  230  12  10224  12  \n",
       "...      ...  ...  ...  ..    ...  ..  \n",
       "70123  10338   30  210  73  10342  77  \n",
       "70124  10336   30  250  73  10338  80  \n",
       "70125  10332   30  240  71  10335  78  \n",
       "70126  10333   30  260  65  10334  78  \n",
       "70127  10325   30  250  62  10332  77  \n",
       "\n",
       "[70128 rows x 20 columns]"
      ]
     },
     "execution_count": 38,
     "metadata": {},
     "output_type": "execute_result"
    }
   ],
   "source": [
    "df"
   ]
  },
  {
   "cell_type": "code",
   "execution_count": null,
   "id": "27f79a57",
   "metadata": {
    "id": "27f79a57"
   },
   "outputs": [],
   "source": [
    "# convert series to supervised learning\n",
    "def series_to_supervised(data, n_in=1, n_out=1, dropnan=True):\n",
    "\tn_vars = 1 if type(data) is list else data.shape[1]\n",
    "\tdf = pd.DataFrame(data)\n",
    "\tcols, names = list(), list()\n",
    "\tfor i in range(n_in, 0, -1):\n",
    "\t\tcols.append(df.shift(i))\n",
    "\t\tnames += [('var%d(t-%d)' % (j+1, i)) for j in range(n_vars)]\n",
    "\tfor i in range(0, n_out):\n",
    "\t\tcols.append(df.shift(-i))\n",
    "\t\tif i == 0:\n",
    "\t\t\tnames += [('var%d(t)' % (j+1)) for j in range(n_vars)]\n",
    "\t\telse:\n",
    "\t\t\tnames += [('var%d(t+%d)' % (j+1, i)) for j in range(n_vars)]\n",
    "\t# concatenating the columns\n",
    "\tagg = pd.concat(cols, axis=1)\n",
    "\tagg.columns = names\n",
    "\t# drop rows with NaN values\n",
    "\tif dropnan:\n",
    "\t\tagg.dropna(inplace=True)\n",
    "\treturn agg\n"
   ]
  },
  {
   "cell_type": "code",
   "execution_count": null,
   "id": "FLH1owiZ1E9q",
   "metadata": {
    "id": "FLH1owiZ1E9q"
   },
   "outputs": [],
   "source": [
    "#lookback period analysis\n",
    "\n",
    "dict1 = dict.fromkeys([1,2,4,8,16,32,64,128,256], 0)\n",
    "\n",
    "for i in dict1:\n",
    "    values = df.values\n",
    "    values = values.astype('float32')\n",
    "    scaler = MinMaxScaler(feature_range=(0, 1))\n",
    "    scaled = scaler.fit_transform(values)\n",
    "    reframed = series_to_supervised(scaled, i, 1)\n",
    "    reframed=pd.concat([reframed.iloc[:,0:20], reframed.iloc[:,-1]], axis=1)\n",
    "    values = reframed.values\n",
    "    frac = int(0.9*reframed.values.shape[0])\n",
    "    train = values[:frac, :]\n",
    "    test = values[frac:, :]\n",
    "    \n",
    "    train_X, train_y = train[:, :-1], train[:, -1]\n",
    "    test_X, test_y = test[:, :-1], test[:, -1]\n",
    "    \n",
    "    train_X = train_X.reshape((train_X.shape[0], 1, train_X.shape[1]))\n",
    "    test_X = test_X.reshape((test_X.shape[0], 1, test_X.shape[1]))\n",
    "    \n",
    "    model = Sequential()\n",
    "    model.add(LSTM(50, input_shape=(train_X.shape[1], train_X.shape[2])))\n",
    "    model.add(Dense(1))\n",
    "    model.compile(loss='mae', optimizer='adam')\n",
    "    \n",
    "    history = model.fit(train_X, train_y, epochs=10, batch_size=72, validation_data=(test_X, test_y), verbose=0, shuffle=False)\n",
    "  \n",
    "    yhat = model.predict(test_X)\n",
    "    test_X = test_X.reshape((test_X.shape[0], test_X.shape[2]))\n",
    "        \n",
    "    inv_yhat = np.concatenate((yhat, test_X[:, 1:]), axis=1)\n",
    "    inv_yhat = scaler.inverse_transform(inv_yhat)\n",
    "    inv_yhat = inv_yhat[:,0]\n",
    "    # invert scaling\n",
    "    test_y = test_y.reshape((len(test_y), 1))\n",
    "    inv_y = np.concatenate((test_y, test_X[:, 1:]), axis=1)\n",
    "    inv_y = scaler.inverse_transform(inv_y)\n",
    "    inv_y = inv_y[:,0]\n",
    "    mae=mean_absolute_error(inv_y, inv_yhat)\n",
    "    dict1[i]=mae"
   ]
  },
  {
   "cell_type": "code",
   "execution_count": null,
   "id": "lPXLv0lb2Z0g",
   "metadata": {
    "colab": {
     "base_uri": "https://localhost:8080/",
     "height": 282
    },
    "id": "lPXLv0lb2Z0g",
    "outputId": "0d7a5f2a-5916-4f42-ebfa-f61e54c429a0"
   },
   "outputs": [
    {
     "data": {
      "image/png": "[encoded data removed]",
      "text/plain": [
       "<Figure size 432x288 with 1 Axes>"
      ]
     },
     "metadata": {},
     "output_type": "display_data"
    }
   ],
   "source": [
    "plt.plot(list(dict1.values()))\n",
    "plt.xticks(np.arange(9), [*dict1])\n",
    "plt.set_title(\"MAE for various lookbacks\")\n",
    "plt.ylabel(\"MAE\")\n",
    "plt.xlabel(\"Lookback values\")\n",
    "plt.show()"
   ]
  },
  {
   "cell_type": "code",
   "execution_count": null,
   "id": "c499b64b",
   "metadata": {
    "colab": {
     "base_uri": "https://localhost:8080/"
    },
    "id": "c499b64b",
    "outputId": "e7f3ccf1-4135-4dec-a732-f6c5f21601d9"
   },
   "outputs": [
    {
     "name": "stdout",
     "output_type": "stream",
     "text": [
      "   var1(t-1)  var2(t-1)  var3(t-1)  var4(t-1)  var5(t-1)  var6(t-1)  \\\n",
      "1   0.272727   0.722222   0.411765   0.544828   0.646091   0.190476   \n",
      "2   0.272727   0.722222   0.413603   0.547126   0.643347   0.190476   \n",
      "3   0.272727   0.722222   0.415441   0.549425   0.640604   0.142857   \n",
      "4   0.227273   0.722222   0.417279   0.551724   0.631001   0.190476   \n",
      "5   0.227273   0.722222   0.419118   0.554023   0.624143   0.190476   \n",
      "\n",
      "   var7(t-1)  var8(t-1)  var9(t-1)  var10(t-1)  ...  var12(t-1)  var13(t-1)  \\\n",
      "1   0.666667   0.411877   0.554987    0.700258  ...    0.638889    0.370766   \n",
      "2   0.777778   0.408046   0.544757    0.696383  ...    0.638889    0.374332   \n",
      "3   0.750000   0.406130   0.537084    0.692507  ...    0.666667    0.374332   \n",
      "4   0.777778   0.408046   0.529412    0.687339  ...    0.666667    0.376114   \n",
      "5   0.777778   0.409962   0.529412    0.684754  ...    0.638889    0.372549   \n",
      "\n",
      "   var14(t-1)  var15(t-1)  var16(t-1)  var17(t-1)  var18(t-1)  var19(t-1)  \\\n",
      "1    0.514673    0.702073    0.176471    0.611111    0.477435    0.709678   \n",
      "2    0.521445    0.698187    0.176471    0.611111    0.475059    0.707097   \n",
      "3    0.519187    0.694301    0.176471    0.611111    0.477435    0.703226   \n",
      "4    0.521445    0.687824    0.176471    0.638889    0.482185    0.695484   \n",
      "5    0.519187    0.685233    0.176471    0.638889    0.486936    0.692904   \n",
      "\n",
      "   var20(t-1)  var20(t)  \n",
      "1    0.296935  0.295019  \n",
      "2    0.295019  0.295019  \n",
      "3    0.295019  0.298851  \n",
      "4    0.298851  0.302682  \n",
      "5    0.302682  0.302682  \n",
      "\n",
      "[5 rows x 21 columns]\n"
     ]
    }
   ],
   "source": [
    "values = df.values\n",
    "# ensure all data is float\n",
    "values = values.astype('float32')\n",
    "# normalize features\n",
    "scaler = MinMaxScaler(feature_range=(0, 1))\n",
    "scaled = scaler.fit_transform(values)\n",
    "# frame as supervised learning\n",
    "reframed = series_to_supervised(scaled, 1, 1)\n",
    "reframed=pd.concat([reframed.iloc[:,0:20], reframed.iloc[:,-1]], axis=1)\n",
    "print(reframed.head())"
   ]
  },
  {
   "cell_type": "code",
   "execution_count": null,
   "id": "734474b4",
   "metadata": {
    "colab": {
     "base_uri": "https://localhost:8080/"
    },
    "id": "734474b4",
    "outputId": "619e81dc-d266-4254-8c9e-2915cf681883"
   },
   "outputs": [
    {
     "name": "stdout",
     "output_type": "stream",
     "text": [
      "(69959, 1, 20) (69959,) (168, 1, 20) (168,)\n"
     ]
    }
   ],
   "source": [
    "# split into train and test sets\n",
    "values = reframed.values\n",
    "frac = int(0.997615*reframed.values.shape[0])\n",
    "train = values[:frac, :]\n",
    "test = values[frac:, :]\n",
    "# split into input and outputs\n",
    "train_X, train_y = train[:, :-1], train[:, -1]\n",
    "test_X, test_y = test[:, :-1], test[:, -1]\n",
    "# reshape input to be 3D [samples, timesteps, features]\n",
    "train_X = train_X.reshape((train_X.shape[0], 1, train_X.shape[1]))\n",
    "test_X = test_X.reshape((test_X.shape[0], 1, test_X.shape[1]))\n",
    "print(train_X.shape, train_y.shape, test_X.shape, test_y.shape)"
   ]
  },
  {
   "cell_type": "code",
   "execution_count": null,
   "id": "c7873429",
   "metadata": {
    "colab": {
     "base_uri": "https://localhost:8080/",
     "height": 629
    },
    "id": "c7873429",
    "outputId": "fff3f685-c5b5-4783-d931-d5ba26b1fb81"
   },
   "outputs": [
    {
     "name": "stdout",
     "output_type": "stream",
     "text": [
      "Epoch 1/10\n",
      "972/972 [==============================] - 7s 5ms/step - loss: 0.0337 - val_loss: 0.0242\n",
      "Epoch 2/10\n",
      "972/972 [==============================] - 5s 5ms/step - loss: 0.0180 - val_loss: 0.0157\n",
      "Epoch 3/10\n",
      "972/972 [==============================] - 5s 5ms/step - loss: 0.0158 - val_loss: 0.0135\n",
      "Epoch 4/10\n",
      "972/972 [==============================] - 4s 4ms/step - loss: 0.0153 - val_loss: 0.0117\n",
      "Epoch 5/10\n",
      "972/972 [==============================] - 4s 4ms/step - loss: 0.0148 - val_loss: 0.0115\n",
      "Epoch 6/10\n",
      "972/972 [==============================] - 4s 4ms/step - loss: 0.0145 - val_loss: 0.0110\n",
      "Epoch 7/10\n",
      "972/972 [==============================] - 4s 4ms/step - loss: 0.0144 - val_loss: 0.0111\n",
      "Epoch 8/10\n",
      "972/972 [==============================] - 4s 4ms/step - loss: 0.0141 - val_loss: 0.0104\n",
      "Epoch 9/10\n",
      "972/972 [==============================] - 4s 4ms/step - loss: 0.0141 - val_loss: 0.0108\n",
      "Epoch 10/10\n",
      "972/972 [==============================] - 4s 4ms/step - loss: 0.0140 - val_loss: 0.0104\n"
     ]
    },
    {
     "data": {
      "image/png": "[encoded data removed]",
      "text/plain": [
       "<Figure size 432x288 with 1 Axes>"
      ]
     },
     "metadata": {},
     "output_type": "display_data"
    }
   ],
   "source": [
    "# design network\n",
    "model = Sequential()\n",
    "model.add(LSTM(50, input_shape=(train_X.shape[1], train_X.shape[2])))\n",
    "model.add(Dense(1))\n",
    "model.compile(loss='mae', optimizer='adam')\n",
    "# fit network\n",
    "history = model.fit(train_X, train_y, epochs=10, batch_size=72, validation_data=(test_X, test_y), verbose=1, shuffle=False)\n",
    "# plot history\n",
    "plt.plot(history.history['loss'], label='train')\n",
    "plt.plot(history.history['val_loss'], label='test')\n",
    "plt.legend()\n",
    "plt.show()"
   ]
  },
  {
   "cell_type": "code",
   "execution_count": null,
   "id": "4e67c0b6",
   "metadata": {
    "colab": {
     "base_uri": "https://localhost:8080/"
    },
    "id": "4e67c0b6",
    "outputId": "9b12b92b-8e5e-4063-f717-4d7c3313d7ff"
   },
   "outputs": [
    {
     "data": {
      "text/plain": [
       "(168, 1, 20)"
      ]
     },
     "execution_count": 20,
     "metadata": {},
     "output_type": "execute_result"
    }
   ],
   "source": [
    "test_X.shape"
   ]
  },
  {
   "cell_type": "code",
   "execution_count": null,
   "id": "b951e1aa",
   "metadata": {
    "id": "b951e1aa"
   },
   "outputs": [],
   "source": [
    "# make prediction\n",
    "yhat = model.predict(test_X)\n",
    "test_X = test_X.reshape((test_X.shape[0], test_X.shape[2]))"
   ]
  },
  {
   "cell_type": "code",
   "execution_count": null,
   "id": "58d28980",
   "metadata": {
    "colab": {
     "base_uri": "https://localhost:8080/"
    },
    "id": "58d28980",
    "outputId": "30fd6178-de20-4a7f-c096-d8cfd96c8904"
   },
   "outputs": [
    {
     "name": "stdout",
     "output_type": "stream",
     "text": [
      "2.2907903\n"
     ]
    }
   ],
   "source": [
    "# invert scaling for forecast\n",
    "inv_yhat = np.concatenate((yhat, test_X[:, 1:]), axis=1)\n",
    "inv_yhat = scaler.inverse_transform(inv_yhat)\n",
    "inv_yhat = inv_yhat[:,0]\n",
    "# invert scaling for actual\n",
    "test_y = test_y.reshape((len(test_y), 1))\n",
    "inv_y = np.concatenate((test_y, test_X[:, 1:]), axis=1)\n",
    "inv_y = scaler.inverse_transform(inv_y)\n",
    "inv_y = inv_y[:,0]\n",
    "# calculate MAE\n",
    "mae=mean_absolute_error(inv_y, inv_yhat)\n",
    "print(mae)"
   ]
  },
  {
   "cell_type": "code",
   "execution_count": null,
   "id": "G2nxjWKoIoJ7",
   "metadata": {
    "colab": {
     "base_uri": "https://localhost:8080/",
     "height": 303
    },
    "id": "G2nxjWKoIoJ7",
    "outputId": "87e0a51e-76c4-4941-83b3-426cc479022a"
   },
   "outputs": [
    {
     "data": {
      "image/png": "[encoded data removed]",
      "text/plain": [
       "<Figure size 432x288 with 1 Axes>"
      ]
     },
     "metadata": {},
     "output_type": "display_data"
    }
   ],
   "source": [
    "plt.title('target vs prediction')\n",
    "p1=plt.plot(inv_y)\n",
    "p2=plt.plot(inv_yhat)\n",
    "plt.legend((p1[0], p2[0]), ('target', 'prediction'))\n",
    "plt.show()"
   ]
  },
  {
   "cell_type": "code",
   "execution_count": null,
   "id": "miebzs2iyiPG",
   "metadata": {
    "id": "miebzs2iyiPG"
   },
   "outputs": [],
   "source": [
    "# Finding out feature importance\n",
    "featimp=[]\n",
    "\n",
    "for i in range(19):\n",
    "  df1=df\n",
    "  df1=df1.drop(df1.columns[[0]], axis=1)\n",
    "  values = df1.values\n",
    "  values = values.astype('float32')\n",
    "  scaler = MinMaxScaler(feature_range=(0, 1))\n",
    "  scaled = scaler.fit_transform(values)\n",
    "  reframed = series_to_supervised(scaled, 1, 1)\n",
    "  reframed=pd.concat([reframed.iloc[:,0:19], reframed.iloc[:,-1]], axis=1)\n",
    "  values = reframed.values\n",
    "  frac = int(0.9*reframed.values.shape[0])\n",
    "  train = values[:frac, :]\n",
    "  test = values[frac:, :]\n",
    "    \n",
    "  train_X, train_y = train[:, :-1], train[:, -1]\n",
    "  test_X, test_y = test[:, :-1], test[:, -1]\n",
    "\n",
    "  train_X = train_X.reshape((train_X.shape[0], 1, train_X.shape[1]))\n",
    "  test_X = test_X.reshape((test_X.shape[0], 1, test_X.shape[1]))\n",
    "\n",
    "  model = Sequential()\n",
    "  model.add(LSTM(50, input_shape=(train_X.shape[1], train_X.shape[2])))\n",
    "  model.add(Dense(1))\n",
    "  model.compile(loss='mae', optimizer='adam')\n",
    "    \n",
    "  history = model.fit(train_X, train_y, epochs=5, batch_size=72, validation_data=(test_X, test_y), verbose=0, shuffle=False)\n",
    "  \n",
    "  yhat = model.predict(test_X)\n",
    "  test_X = test_X.reshape((test_X.shape[0], test_X.shape[2]))\n",
    "      \n",
    "  inv_yhat = np.concatenate((yhat, test_X[:, 1:]), axis=1)\n",
    "  inv_yhat = scaler.inverse_transform(inv_yhat)\n",
    "  inv_yhat = inv_yhat[:,0]\n",
    "  \n",
    "  test_y = test_y.reshape((len(test_y), 1))\n",
    "  inv_y = np.concatenate((test_y, test_X[:, 1:]), axis=1)\n",
    "  inv_y = scaler.inverse_transform(inv_y)\n",
    "  inv_y = inv_y[:,0]\n",
    "  mae=mean_absolute_error(inv_y, inv_yhat)\n",
    "  featimp.append(mae)"
   ]
  },
  {
   "cell_type": "code",
   "execution_count": null,
   "id": "pUclOZR6_SUU",
   "metadata": {
    "colab": {
     "base_uri": "https://localhost:8080/",
     "height": 318
    },
    "id": "pUclOZR6_SUU",
    "outputId": "bae449af-0582-4326-d1e9-9192cb1662c1"
   },
   "outputs": [
    {
     "data": {
      "image/png": "[encoded data removed]",
      "text/plain": [
       "<Figure size 432x288 with 1 Axes>"
      ]
     },
     "metadata": {},
     "output_type": "display_data"
    }
   ],
   "source": [
    "plt.title('Feature Importance Plot')\n",
    "plt.bar(np.arange(19),featimp)\n",
    "plt.xticks(np.arange(19), df.columns)\n",
    "plt.xticks(rotation = 90)\n",
    "plt.ylim(min(featimp)-2, max(featimp)+2)\n",
    "plt.show()"
   ]
  }
 ],
 "metadata": {
  "colab": {
   "collapsed_sections": [],
   "name": "Deep Learning Assignment 2 v0.1.ipynb",
   "provenance": []
  },
  "kernelspec": {
   "display_name": "Python 3 (ipykernel)",
   "language": "python",
   "name": "python3"
  },
  "language_info": {
   "codemirror_mode": {
    "name": "ipython",
    "version": 3
   },
   "file_extension": ".py",
   "mimetype": "text/x-python",
   "name": "python",
   "nbconvert_exporter": "python",
   "pygments_lexer": "ipython3",
   "version": "3.9.7"
  }
 },
 "nbformat": 4,
 "nbformat_minor": 5
}
